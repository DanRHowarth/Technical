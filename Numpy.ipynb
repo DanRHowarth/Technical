{
 "cells": [
  {
   "cell_type": "markdown",
   "metadata": {},
   "source": [
    "## Numpy: Tutorial"
   ]
  },
  {
   "cell_type": "code",
   "execution_count": 3,
   "metadata": {},
   "outputs": [
    {
     "data": {
      "text/plain": [
       "'1.12.1'"
      ]
     },
     "execution_count": 3,
     "metadata": {},
     "output_type": "execute_result"
    }
   ],
   "source": [
    "import numpy as np\n",
    "np.__version__"
   ]
  },
  {
   "cell_type": "markdown",
   "metadata": {},
   "source": [
    "**Importance of Numpy**\n",
    "* Data science stack built on Numpy\n",
    "* Almost all types of data can be represented as an array\n",
    "* The first step in making data analyzable is turning it into arrays of numbers.\n",
    "    * Featuring Engineering (e.g. one hot encoding) is used to enable this to happen\n",
    "* A numpy array is a contiguous block of data stored in the same data container. Numpy allows for efficient operations on this array.\n",
    "    * Numpy arrays can be one fixed data-type only - [integers or floats - improve this]  "
   ]
  },
  {
   "cell_type": "code",
   "execution_count": 13,
   "metadata": {
    "collapsed": true
   },
   "outputs": [],
   "source": [
    "# the docs can be called up using the np.[function]? format, an e.g. is below\n",
    "np.array?"
   ]
  },
  {
   "cell_type": "markdown",
   "metadata": {
    "collapsed": true
   },
   "source": [
    "**Creating arrays: np.array**"
   ]
  },
  {
   "cell_type": "code",
   "execution_count": 7,
   "metadata": {},
   "outputs": [
    {
     "data": {
      "text/plain": [
       "array(<class 'object'>, dtype=object)"
      ]
     },
     "execution_count": 7,
     "metadata": {},
     "output_type": "execute_result"
    }
   ],
   "source": [
    "# docstring for np.array\n",
    "np.array(object, dtype=None, copy=True, order='K', subok=False, ndmin=0)"
   ]
  },
  {
   "cell_type": "markdown",
   "metadata": {},
   "source": [
    "* object: an array or 'array_like' object\n",
    "* dtype: can specify the data-type for the array, or minimum required is determined \n",
    "    * note that this can be written as dtype='int16' or dtype=np.int16\n",
    "    * note we can also use this to 'upcast' the array from the existing array dtype to another - from int to float\n",
    "    * but we can't 'downcast', this has to be done with np.ndarray.astype(t)\n",
    "* Note this creates a ndarray class; np.array which is a method of creating ndarrays.\n",
    "    * We need to understand the difference between classes and sub-classes. This requires some OOP knowledge (I think). *I think* that there are sub-classes of the ndarray class, e.g. matrix. We might also have a data type with its own sub-classes whose properties we want to (or don't want to) inherit.  "
   ]
  },
  {
   "cell_type": "code",
   "execution_count": 12,
   "metadata": {},
   "outputs": [],
   "source": [
    "np.ndarray.astype?"
   ]
  },
  {
   "cell_type": "code",
   "execution_count": null,
   "metadata": {
    "collapsed": true
   },
   "outputs": [],
   "source": []
  }
 ],
 "metadata": {
  "kernelspec": {
   "display_name": "Python [conda env:py36]",
   "language": "python",
   "name": "conda-env-py36-py"
  },
  "language_info": {
   "codemirror_mode": {
    "name": "ipython",
    "version": 3
   },
   "file_extension": ".py",
   "mimetype": "text/x-python",
   "name": "python",
   "nbconvert_exporter": "python",
   "pygments_lexer": "ipython3",
   "version": "3.6.4"
  }
 },
 "nbformat": 4,
 "nbformat_minor": 2
}
